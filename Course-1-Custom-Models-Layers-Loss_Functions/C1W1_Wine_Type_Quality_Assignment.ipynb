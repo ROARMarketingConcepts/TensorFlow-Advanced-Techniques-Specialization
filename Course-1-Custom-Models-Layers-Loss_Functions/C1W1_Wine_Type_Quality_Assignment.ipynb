{
 "cells": [
  {
   "cell_type": "markdown",
   "metadata": {
    "colab_type": "text",
    "id": "ZL_6GK8qX35J"
   },
   "source": [
    "\n",
    "\n",
    "# Week 1: Multiple Output Models using the Keras Functional API\n",
    "\n",
    "Welcome to the first programming assignment of the course! Your task will be to use the Keras functional API to train a model to predict two outputs. For this lab, you will use the **[Wine Quality Dataset](https://archive.ics.uci.edu/ml/datasets/Wine+Quality)** from the **UCI machine learning repository**. It has separate datasets for red wine and white wine.\n",
    "\n",
    "Normally, the wines are classified into one of the quality ratings specified in the attributes. In this exercise, you will combine the two datasets to predict the wine quality and whether the wine is red or white solely from the attributes. \n",
    "\n",
    "You will model wine quality estimations as a regression problem and wine type detection as a binary classification problem.\n",
    "\n",
    "#### Please complete sections that are marked **(TODO)**"
   ]
  },
  {
   "cell_type": "markdown",
   "metadata": {
    "colab_type": "text",
    "id": "obdcD6urYBY9"
   },
   "source": [
    "## Imports"
   ]
  },
  {
   "cell_type": "code",
   "execution_count": 1,
   "metadata": {
    "colab": {},
    "colab_type": "code",
    "id": "t8N3pcTQ5oQI"
   },
   "outputs": [],
   "source": [
    "import tensorflow as tf\n",
    "from tensorflow.keras.models import Model\n",
    "from tensorflow.keras.layers import Dense, Input\n",
    "\n",
    "import numpy as np\n",
    "import matplotlib.pyplot as plt\n",
    "import pandas as pd\n",
    "from sklearn.model_selection import train_test_split\n",
    "from sklearn.metrics import confusion_matrix\n",
    "import itertools\n",
    "\n",
    "import utils"
   ]
  },
  {
   "cell_type": "markdown",
   "metadata": {
    "colab_type": "text",
    "id": "gQMERzWQYpgm"
   },
   "source": [
    "## Load Dataset\n",
    "\n",
    "\n",
    "You will now load the dataset from the [UCI Machine Learning Repository](https://archive.ics.uci.edu/ml/index.php) which are **already saved** in your workspace (*Note: For successful grading, please **do not** modify the default string set to the `URI` variable below*).\n",
    "\n",
    "### Pre-process the white wine dataset (TODO)\n",
    "You will add a new column named `is_red` in your dataframe to indicate if the wine is white or red. \n",
    "- In the white wine dataset, you will fill the column `is_red` with  zeros (0)."
   ]
  },
  {
   "cell_type": "code",
   "execution_count": 2,
   "metadata": {
    "colab": {},
    "colab_type": "code",
    "deletable": false,
    "id": "2qYAjKXCd4RH",
    "nbgrader": {
     "cell_type": "code",
     "checksum": "325ea195519b7035934c95bb529a062c",
     "grade": false,
     "grade_id": "cell-e5bfa0f152d9a21f",
     "locked": false,
     "schema_version": 3,
     "solution": true,
     "task": false
    }
   },
   "outputs": [],
   "source": [
    "## Please uncomment all lines in this cell and replace those marked with `# YOUR CODE HERE`.\n",
    "## You can select all lines in this code cell with Ctrl+A (Windows/Linux) or Cmd+A (Mac), then press Ctrl+/ (Windows/Linux) or Cmd+/ (Mac) to uncomment.\n",
    "\n",
    "\n",
    "\n",
    "# URL of the white wine dataset\n",
    "URI = './winequality-white.csv'\n",
    "\n",
    "# load the dataset from the URL\n",
    "white_df = pd.read_csv(URI, sep=\";\")\n",
    "\n",
    "# fill the `is_red` column with zeros.\n",
    "white_df[\"is_red\"] = 0 # YOUR CODE HERE\n",
    "\n",
    "# keep only the first of duplicate items\n",
    "white_df = white_df.drop_duplicates(keep='first')\n"
   ]
  },
  {
   "cell_type": "code",
   "execution_count": 3,
   "metadata": {
    "deletable": false,
    "editable": false,
    "nbgrader": {
     "cell_type": "code",
     "checksum": "defe38d6ec58fd31cd67b89e46c4373f",
     "grade": true,
     "grade_id": "cell-30575e713b55fc51",
     "locked": true,
     "points": 1,
     "schema_version": 3,
     "solution": false,
     "task": false
    }
   },
   "outputs": [
    {
     "name": "stdout",
     "output_type": "stream",
     "text": [
      "\u001b[92m All public tests passed\n"
     ]
    }
   ],
   "source": [
    "# You can click `File -> Open` in the menu above and open the `utils.py` file \n",
    "# in case you want to inspect the unit tests being used for each graded function.\n",
    "\n",
    "utils.test_white_df(white_df)\n"
   ]
  },
  {
   "cell_type": "code",
   "execution_count": 4,
   "metadata": {
    "colab": {},
    "colab_type": "code",
    "id": "OQHK0ohBQRCk"
   },
   "outputs": [
    {
     "name": "stdout",
     "output_type": "stream",
     "text": [
      "8.8\n",
      "9.1\n"
     ]
    }
   ],
   "source": [
    "print(white_df.alcohol[0])\n",
    "print(white_df.alcohol[100])\n",
    "\n",
    "# EXPECTED OUTPUT\n",
    "# 8.8\n",
    "# 9.1"
   ]
  },
  {
   "cell_type": "markdown",
   "metadata": {},
   "source": [
    "### Pre-process the red wine dataset (TODO)\n",
    "- In the red wine dataset, you will fill in the column `is_red` with ones (1)."
   ]
  },
  {
   "cell_type": "code",
   "execution_count": 5,
   "metadata": {
    "colab": {},
    "colab_type": "code",
    "deletable": false,
    "id": "8y3QxKwBed8v",
    "nbgrader": {
     "cell_type": "code",
     "checksum": "12e0963d15be33b01b4e6ebc8945e51e",
     "grade": false,
     "grade_id": "cell-e47a40f306593274",
     "locked": false,
     "schema_version": 3,
     "solution": true,
     "task": false
    }
   },
   "outputs": [],
   "source": [
    "## Please uncomment all lines in this cell and replace those marked with `# YOUR CODE HERE`.\n",
    "## You can select all lines in this code cell with Ctrl+A (Windows/Linux) or Cmd+A (Mac), then press Ctrl+/ (Windows/Linux) or Cmd+/ (Mac) to uncomment.\n",
    "\n",
    "\n",
    "\n",
    "# URL of the red wine dataset\n",
    "URI = './winequality-red.csv'\n",
    "\n",
    "# load the dataset from the URL\n",
    "red_df = pd.read_csv(URI, sep=\";\")\n",
    "\n",
    "# fill the `is_red` column with ones.\n",
    "red_df[\"is_red\"] = 1 # YOUR CODE HERE\n",
    "\n",
    "# keep only the first of duplicate items\n",
    "red_df = red_df.drop_duplicates(keep='first')\n"
   ]
  },
  {
   "cell_type": "code",
   "execution_count": 6,
   "metadata": {
    "deletable": false,
    "editable": false,
    "nbgrader": {
     "cell_type": "code",
     "checksum": "d8e0c91b0fd668b63ba74a8f2f958b59",
     "grade": true,
     "grade_id": "cell-2a75937adcc0c25b",
     "locked": true,
     "points": 1,
     "schema_version": 3,
     "solution": false,
     "task": false
    }
   },
   "outputs": [
    {
     "name": "stdout",
     "output_type": "stream",
     "text": [
      "\u001b[92m All public tests passed\n"
     ]
    }
   ],
   "source": [
    "utils.test_red_df(red_df)\n"
   ]
  },
  {
   "cell_type": "code",
   "execution_count": 7,
   "metadata": {
    "colab": {},
    "colab_type": "code",
    "id": "zsB3LUzNQpo_"
   },
   "outputs": [
    {
     "name": "stdout",
     "output_type": "stream",
     "text": [
      "9.4\n",
      "10.2\n"
     ]
    }
   ],
   "source": [
    "print(red_df.alcohol[0])\n",
    "print(red_df.alcohol[100])\n",
    "\n",
    "# EXPECTED OUTPUT\n",
    "# 9.4\n",
    "# 10.2"
   ]
  },
  {
   "cell_type": "markdown",
   "metadata": {
    "colab_type": "text",
    "id": "2G8B-NYuM6-f"
   },
   "source": [
    "### Concatenate the datasets\n",
    "\n",
    "Next, concatenate the red and white wine dataframes."
   ]
  },
  {
   "cell_type": "code",
   "execution_count": 8,
   "metadata": {
    "colab": {},
    "colab_type": "code",
    "id": "YpQrOjJbfN3m"
   },
   "outputs": [],
   "source": [
    "df = pd.concat([red_df, white_df], ignore_index=True)"
   ]
  },
  {
   "cell_type": "code",
   "execution_count": 9,
   "metadata": {
    "colab": {},
    "colab_type": "code",
    "id": "Se2dTmThQyjb"
   },
   "outputs": [
    {
     "name": "stdout",
     "output_type": "stream",
     "text": [
      "9.4\n",
      "9.5\n"
     ]
    }
   ],
   "source": [
    "print(df.alcohol[0])\n",
    "print(df.alcohol[100])\n",
    "\n",
    "# EXPECTED OUTPUT\n",
    "# 9.4\n",
    "# 9.5"
   ]
  },
  {
   "cell_type": "markdown",
   "metadata": {},
   "source": [
    "In a real-world scenario, you should shuffle the data. For this assignment however, **you are not** going to do that because the grader needs to test with deterministic data. If you want the code to do it **after** you've gotten your grade for this notebook, we left the commented line below for reference"
   ]
  },
  {
   "cell_type": "code",
   "execution_count": 10,
   "metadata": {
    "colab": {},
    "colab_type": "code",
    "id": "wx6y3rPpQv4k"
   },
   "outputs": [],
   "source": [
    "#df = df.iloc[np.random.permutation(len(df))]"
   ]
  },
  {
   "cell_type": "markdown",
   "metadata": {
    "colab_type": "text",
    "id": "-EqIcbg5M_n1"
   },
   "source": [
    "This will chart the quality of the wines."
   ]
  },
  {
   "cell_type": "code",
   "execution_count": 11,
   "metadata": {
    "colab": {},
    "colab_type": "code",
    "id": "IsvK0-Sgy17C"
   },
   "outputs": [
    {
     "data": {
      "image/png": "[encoded data removed]",
      "text/plain": [
       "<Figure size 432x288 with 1 Axes>"
      ]
     },
     "metadata": {
      "needs_background": "light"
     },
     "output_type": "display_data"
    }
   ],
   "source": [
    "df['quality'].hist(bins=20);"
   ]
  },
  {
   "cell_type": "markdown",
   "metadata": {
    "colab_type": "text",
    "id": "Nut1rmYLzf-p"
   },
   "source": [
    "### Imbalanced data (TODO)\n",
    "You can see from the plot above that the wine quality dataset is imbalanced. \n",
    "- Since there are very few observations with quality equal to 3, 4, 8 and 9, you can drop these observations from your dataset. \n",
    "- You can do this by removing data belonging to all classes except those > 4 and < 8."
   ]
  },
  {
   "cell_type": "code",
   "execution_count": 12,
   "metadata": {
    "colab": {},
    "colab_type": "code",
    "deletable": false,
    "id": "doH9_-gnf3sz",
    "nbgrader": {
     "cell_type": "code",
     "checksum": "d9ba9fc3a3ca02ccc567be33652b80fe",
     "grade": false,
     "grade_id": "cell-6a3e9db696f6827b",
     "locked": false,
     "schema_version": 3,
     "solution": true,
     "task": false
    }
   },
   "outputs": [],
   "source": [
    "## Please uncomment all lines in this cell and replace those marked with `# YOUR CODE HERE`.\n",
    "## You can select all lines in this code cell with Ctrl+A (Windows/Linux) or Cmd+A (Mac), then press Ctrl+/ (Windows/Linux) or Cmd+/ (Mac) to uncomment.\n",
    "\n",
    "\n",
    "\n",
    "# get data with wine quality greater than 4 and less than 8\n",
    "df = df[(df['quality'] > 4) & (df['quality'] < 8)]\n",
    "\n",
    "# reset index and drop the old one\n",
    "df = df.reset_index(drop=True)"
   ]
  },
  {
   "cell_type": "code",
   "execution_count": 13,
   "metadata": {
    "deletable": false,
    "editable": false,
    "nbgrader": {
     "cell_type": "code",
     "checksum": "281e1d86a4803560ed5892cd7eda4c01",
     "grade": true,
     "grade_id": "cell-aed3da719d4682c7",
     "locked": true,
     "points": 1,
     "schema_version": 3,
     "solution": false,
     "task": false
    }
   },
   "outputs": [
    {
     "name": "stdout",
     "output_type": "stream",
     "text": [
      "\u001b[92m All public tests passed\n"
     ]
    }
   ],
   "source": [
    "utils.test_df_drop(df)\n",
    "\n"
   ]
  },
  {
   "cell_type": "code",
   "execution_count": 14,
   "metadata": {
    "colab": {},
    "colab_type": "code",
    "id": "xNR1iAlMRPXO"
   },
   "outputs": [
    {
     "name": "stdout",
     "output_type": "stream",
     "text": [
      "9.4\n",
      "10.9\n"
     ]
    }
   ],
   "source": [
    "print(df.alcohol[0])\n",
    "print(df.alcohol[100])\n",
    "\n",
    "# EXPECTED OUTPUT\n",
    "# 9.4\n",
    "# 10.9"
   ]
  },
  {
   "cell_type": "markdown",
   "metadata": {
    "colab_type": "text",
    "id": "cwhuRpnVRTzG"
   },
   "source": [
    "You can plot again to see the new range of data and quality"
   ]
  },
  {
   "cell_type": "code",
   "execution_count": 15,
   "metadata": {
    "colab": {},
    "colab_type": "code",
    "id": "857ygzZiLgGg"
   },
   "outputs": [
    {
     "data": {
      "image/png": "[encoded data removed]",
      "text/plain": [
       "<Figure size 432x288 with 1 Axes>"
      ]
     },
     "metadata": {
      "needs_background": "light"
     },
     "output_type": "display_data"
    }
   ],
   "source": [
    "df['quality'].hist(bins=20);"
   ]
  },
  {
   "cell_type": "markdown",
   "metadata": {
    "colab_type": "text",
    "id": "n3k0vqSsp84t"
   },
   "source": [
    "### Train Test Split (TODO)\n",
    "\n",
    "Next, you can split the datasets into training, test and validation datasets.\n",
    "- The data frame should be split 80:20 into `train` and `test` sets.\n",
    "- The resulting `train` should then be split 80:20 into `train` and `val` sets.\n",
    "- The `train_test_split` parameter `test_size` takes a float value that ranges between 0. and 1, and represents the proportion of the dataset that is allocated to the test set.  The rest of the data is allocated to the training set."
   ]
  },
  {
   "cell_type": "code",
   "execution_count": 16,
   "metadata": {
    "colab": {},
    "colab_type": "code",
    "deletable": false,
    "id": "PAVIf2-fgRVY",
    "nbgrader": {
     "cell_type": "code",
     "checksum": "7f5738f4fb51d65adc9a8acbdf2b9970",
     "grade": false,
     "grade_id": "cell-91946cadf745206b",
     "locked": false,
     "schema_version": 3,
     "solution": true,
     "task": false
    }
   },
   "outputs": [],
   "source": [
    "## Please uncomment all lines in this cell and replace those marked with `# YOUR CODE HERE`.\n",
    "## You can select all lines in this code cell with Ctrl+A (Windows/Linux) or Cmd+A (Mac), then press Ctrl+/ (Windows/Linux) or Cmd+/ (Mac) to uncomment.\n",
    "\n",
    "\n",
    "\n",
    "# Please do not change the random_state parameter. This is needed for grading.\n",
    "\n",
    "# split df into 80:20 train and test sets\n",
    "train, test = train_test_split(df, test_size= 0.2, random_state = 1)\n",
    "                               \n",
    "# split train into 80:20 train and val sets\n",
    "train, val = train_test_split(train, test_size=0.2, random_state = 1)"
   ]
  },
  {
   "cell_type": "code",
   "execution_count": 17,
   "metadata": {
    "colab": {},
    "colab_type": "code",
    "deletable": false,
    "editable": false,
    "id": "57h9LcEzRWpk",
    "nbgrader": {
     "cell_type": "code",
     "checksum": "42adbe9e66efac7c7a5f8cd73ac92f22",
     "grade": true,
     "grade_id": "cell-64b8b38cd0b965f6",
     "locked": true,
     "points": 1,
     "schema_version": 3,
     "solution": false,
     "task": false
    }
   },
   "outputs": [
    {
     "name": "stdout",
     "output_type": "stream",
     "text": [
      "\u001b[92m All public tests passed\n"
     ]
    }
   ],
   "source": [
    "utils.test_data_sizes(train.size, test.size, val.size)\n",
    "\n"
   ]
  },
  {
   "cell_type": "markdown",
   "metadata": {
    "colab_type": "text",
    "id": "RwTNu4KFqG-K"
   },
   "source": [
    "Here's where you can explore the training stats. You can pop the labels 'is_red' and 'quality' from the data as these will be used as the labels\n"
   ]
  },
  {
   "cell_type": "code",
   "execution_count": 18,
   "metadata": {
    "colab": {},
    "colab_type": "code",
    "id": "Y_afyhhHM6WQ"
   },
   "outputs": [],
   "source": [
    "train_stats = train.describe()\n",
    "train_stats.pop('is_red')\n",
    "train_stats.pop('quality')\n",
    "train_stats = train_stats.transpose()"
   ]
  },
  {
   "cell_type": "markdown",
   "metadata": {
    "colab_type": "text",
    "id": "ahvbYm4fNqSt"
   },
   "source": [
    "Explore the training stats!"
   ]
  },
  {
   "cell_type": "code",
   "execution_count": 19,
   "metadata": {
    "colab": {},
    "colab_type": "code",
    "id": "n_gAtPjZ0otF"
   },
   "outputs": [
    {
     "data": {
      "text/html": [
       "<div>\n",
       "<style scoped>\n",
       "    .dataframe tbody tr th:only-of-type {\n",
       "        vertical-align: middle;\n",
       "    }\n",
       "\n",
       "    .dataframe tbody tr th {\n",
       "        vertical-align: top;\n",
       "    }\n",
       "\n",
       "    .dataframe thead th {\n",
       "        text-align: right;\n",
       "    }\n",
       "</style>\n",
       "<table border=\"1\" class=\"dataframe\">\n",
       "  <thead>\n",
       "    <tr style=\"text-align: right;\">\n",
       "      <th></th>\n",
       "      <th>count</th>\n",
       "      <th>mean</th>\n",
       "      <th>std</th>\n",
       "      <th>min</th>\n",
       "      <th>25%</th>\n",
       "      <th>50%</th>\n",
       "      <th>75%</th>\n",
       "      <th>max</th>\n",
       "    </tr>\n",
       "  </thead>\n",
       "  <tbody>\n",
       "    <tr>\n",
       "      <th>fixed acidity</th>\n",
       "      <td>3155.0</td>\n",
       "      <td>7.221616</td>\n",
       "      <td>1.325297</td>\n",
       "      <td>3.80000</td>\n",
       "      <td>6.40000</td>\n",
       "      <td>7.00000</td>\n",
       "      <td>7.7000</td>\n",
       "      <td>15.60000</td>\n",
       "    </tr>\n",
       "    <tr>\n",
       "      <th>volatile acidity</th>\n",
       "      <td>3155.0</td>\n",
       "      <td>0.338929</td>\n",
       "      <td>0.162476</td>\n",
       "      <td>0.08000</td>\n",
       "      <td>0.23000</td>\n",
       "      <td>0.29000</td>\n",
       "      <td>0.4000</td>\n",
       "      <td>1.24000</td>\n",
       "    </tr>\n",
       "    <tr>\n",
       "      <th>citric acid</th>\n",
       "      <td>3155.0</td>\n",
       "      <td>0.321569</td>\n",
       "      <td>0.147970</td>\n",
       "      <td>0.00000</td>\n",
       "      <td>0.25000</td>\n",
       "      <td>0.31000</td>\n",
       "      <td>0.4000</td>\n",
       "      <td>1.66000</td>\n",
       "    </tr>\n",
       "    <tr>\n",
       "      <th>residual sugar</th>\n",
       "      <td>3155.0</td>\n",
       "      <td>5.155911</td>\n",
       "      <td>4.639632</td>\n",
       "      <td>0.60000</td>\n",
       "      <td>1.80000</td>\n",
       "      <td>2.80000</td>\n",
       "      <td>7.6500</td>\n",
       "      <td>65.80000</td>\n",
       "    </tr>\n",
       "    <tr>\n",
       "      <th>chlorides</th>\n",
       "      <td>3155.0</td>\n",
       "      <td>0.056976</td>\n",
       "      <td>0.036802</td>\n",
       "      <td>0.01200</td>\n",
       "      <td>0.03800</td>\n",
       "      <td>0.04700</td>\n",
       "      <td>0.0660</td>\n",
       "      <td>0.61100</td>\n",
       "    </tr>\n",
       "    <tr>\n",
       "      <th>free sulfur dioxide</th>\n",
       "      <td>3155.0</td>\n",
       "      <td>30.388590</td>\n",
       "      <td>17.236784</td>\n",
       "      <td>1.00000</td>\n",
       "      <td>17.00000</td>\n",
       "      <td>28.00000</td>\n",
       "      <td>41.0000</td>\n",
       "      <td>131.00000</td>\n",
       "    </tr>\n",
       "    <tr>\n",
       "      <th>total sulfur dioxide</th>\n",
       "      <td>3155.0</td>\n",
       "      <td>115.062282</td>\n",
       "      <td>56.706617</td>\n",
       "      <td>6.00000</td>\n",
       "      <td>75.00000</td>\n",
       "      <td>117.00000</td>\n",
       "      <td>156.0000</td>\n",
       "      <td>344.00000</td>\n",
       "    </tr>\n",
       "    <tr>\n",
       "      <th>density</th>\n",
       "      <td>3155.0</td>\n",
       "      <td>0.994633</td>\n",
       "      <td>0.003005</td>\n",
       "      <td>0.98711</td>\n",
       "      <td>0.99232</td>\n",
       "      <td>0.99481</td>\n",
       "      <td>0.9968</td>\n",
       "      <td>1.03898</td>\n",
       "    </tr>\n",
       "    <tr>\n",
       "      <th>pH</th>\n",
       "      <td>3155.0</td>\n",
       "      <td>3.223201</td>\n",
       "      <td>0.161272</td>\n",
       "      <td>2.72000</td>\n",
       "      <td>3.11000</td>\n",
       "      <td>3.21000</td>\n",
       "      <td>3.3300</td>\n",
       "      <td>4.01000</td>\n",
       "    </tr>\n",
       "    <tr>\n",
       "      <th>sulphates</th>\n",
       "      <td>3155.0</td>\n",
       "      <td>0.534051</td>\n",
       "      <td>0.149149</td>\n",
       "      <td>0.22000</td>\n",
       "      <td>0.43000</td>\n",
       "      <td>0.51000</td>\n",
       "      <td>0.6000</td>\n",
       "      <td>1.95000</td>\n",
       "    </tr>\n",
       "    <tr>\n",
       "      <th>alcohol</th>\n",
       "      <td>3155.0</td>\n",
       "      <td>10.504466</td>\n",
       "      <td>1.154654</td>\n",
       "      <td>8.50000</td>\n",
       "      <td>9.50000</td>\n",
       "      <td>10.30000</td>\n",
       "      <td>11.3000</td>\n",
       "      <td>14.00000</td>\n",
       "    </tr>\n",
       "  </tbody>\n",
       "</table>\n",
       "</div>"
      ],
      "text/plain": [
       "                       count        mean        std      min       25%  \\\n",
       "fixed acidity         3155.0    7.221616   1.325297  3.80000   6.40000   \n",
       "volatile acidity      3155.0    0.338929   0.162476  0.08000   0.23000   \n",
       "citric acid           3155.0    0.321569   0.147970  0.00000   0.25000   \n",
       "residual sugar        3155.0    5.155911   4.639632  0.60000   1.80000   \n",
       "chlorides             3155.0    0.056976   0.036802  0.01200   0.03800   \n",
       "free sulfur dioxide   3155.0   30.388590  17.236784  1.00000  17.00000   \n",
       "total sulfur dioxide  3155.0  115.062282  56.706617  6.00000  75.00000   \n",
       "density               3155.0    0.994633   0.003005  0.98711   0.99232   \n",
       "pH                    3155.0    3.223201   0.161272  2.72000   3.11000   \n",
       "sulphates             3155.0    0.534051   0.149149  0.22000   0.43000   \n",
       "alcohol               3155.0   10.504466   1.154654  8.50000   9.50000   \n",
       "\n",
       "                            50%       75%        max  \n",
       "fixed acidity           7.00000    7.7000   15.60000  \n",
       "volatile acidity        0.29000    0.4000    1.24000  \n",
       "citric acid             0.31000    0.4000    1.66000  \n",
       "residual sugar          2.80000    7.6500   65.80000  \n",
       "chlorides               0.04700    0.0660    0.61100  \n",
       "free sulfur dioxide    28.00000   41.0000  131.00000  \n",
       "total sulfur dioxide  117.00000  156.0000  344.00000  \n",
       "density                 0.99481    0.9968    1.03898  \n",
       "pH                      3.21000    3.3300    4.01000  \n",
       "sulphates               0.51000    0.6000    1.95000  \n",
       "alcohol                10.30000   11.3000   14.00000  "
      ]
     },
     "execution_count": 19,
     "metadata": {},
     "output_type": "execute_result"
    }
   ],
   "source": [
    "train_stats"
   ]
  },
  {
   "cell_type": "markdown",
   "metadata": {
    "colab_type": "text",
    "id": "bGPvt9jir_HC"
   },
   "source": [
    "### Get the labels (TODO)\n",
    "\n",
    "The features and labels are currently in the same dataframe.\n",
    "- You will want to store the label columns `is_red` and `quality` separately from the feature columns.  \n",
    "- The following function, `format_output`, gets these two columns from the dataframe (it's given to you).\n",
    "- `format_output` also formats the data into numpy arrays. \n",
    "- Please use the `format_output` and apply it to the `train`, `val` and `test` sets to get dataframes for the labels."
   ]
  },
  {
   "cell_type": "code",
   "execution_count": 20,
   "metadata": {
    "colab": {},
    "colab_type": "code",
    "id": "Z_fs14XQqZVP"
   },
   "outputs": [],
   "source": [
    "def format_output(data):\n",
    "    is_red = data.pop('is_red')\n",
    "    is_red = np.array(is_red)\n",
    "    quality = data.pop('quality')\n",
    "    quality = np.array(quality)\n",
    "    return (quality, is_red)"
   ]
  },
  {
   "cell_type": "code",
   "execution_count": 21,
   "metadata": {
    "colab": {},
    "colab_type": "code",
    "deletable": false,
    "id": "8L3ZZe1fQicm",
    "nbgrader": {
     "cell_type": "code",
     "checksum": "7a86809e54895a816434c48dc903f55d",
     "grade": false,
     "grade_id": "cell-5c30fa2c2a354b0f",
     "locked": false,
     "schema_version": 3,
     "solution": true,
     "task": false
    }
   },
   "outputs": [],
   "source": [
    "## Please uncomment all lines in this cell and replace those marked with `# YOUR CODE HERE`.\n",
    "## You can select all lines in this code cell with Ctrl+A (Windows/Linux) or Cmd+A (Mac), then press Ctrl+/ (Windows/Linux) or Cmd+/ (Mac) to uncomment.\n",
    "\n",
    "\n",
    "\n",
    "# format the output of the train set\n",
    "train_Y = format_output(train)\n",
    "\n",
    "# format the output of the val set\n",
    "val_Y = format_output(val)\n",
    "    \n",
    "# format the output of the test set\n",
    "test_Y = format_output(test)"
   ]
  },
  {
   "cell_type": "code",
   "execution_count": 22,
   "metadata": {
    "deletable": false,
    "editable": false,
    "nbgrader": {
     "cell_type": "code",
     "checksum": "359cabbafaed14ec9bbc1e57a7b6f32c",
     "grade": true,
     "grade_id": "cell-4977d8befb80f56b",
     "locked": true,
     "points": 1,
     "schema_version": 3,
     "solution": false,
     "task": false
    }
   },
   "outputs": [
    {
     "name": "stdout",
     "output_type": "stream",
     "text": [
      "\u001b[92m All public tests passed\n"
     ]
    }
   ],
   "source": [
    "utils.test_format_output(df, train_Y, val_Y, test_Y)"
   ]
  },
  {
   "cell_type": "markdown",
   "metadata": {},
   "source": [
    "Notice that after you get the labels, the `train`, `val` and `test` dataframes no longer contain the label columns, and contain just the feature columns.\n",
    "- This is because you used `.pop` in the `format_output` function."
   ]
  },
  {
   "cell_type": "code",
   "execution_count": 23,
   "metadata": {},
   "outputs": [
    {
     "data": {
      "text/html": [
       "<div>\n",
       "<style scoped>\n",
       "    .dataframe tbody tr th:only-of-type {\n",
       "        vertical-align: middle;\n",
       "    }\n",
       "\n",
       "    .dataframe tbody tr th {\n",
       "        vertical-align: top;\n",
       "    }\n",
       "\n",
       "    .dataframe thead th {\n",
       "        text-align: right;\n",
       "    }\n",
       "</style>\n",
       "<table border=\"1\" class=\"dataframe\">\n",
       "  <thead>\n",
       "    <tr style=\"text-align: right;\">\n",
       "      <th></th>\n",
       "      <th>fixed acidity</th>\n",
       "      <th>volatile acidity</th>\n",
       "      <th>citric acid</th>\n",
       "      <th>residual sugar</th>\n",
       "      <th>chlorides</th>\n",
       "      <th>free sulfur dioxide</th>\n",
       "      <th>total sulfur dioxide</th>\n",
       "      <th>density</th>\n",
       "      <th>pH</th>\n",
       "      <th>sulphates</th>\n",
       "      <th>alcohol</th>\n",
       "    </tr>\n",
       "  </thead>\n",
       "  <tbody>\n",
       "    <tr>\n",
       "      <th>225</th>\n",
       "      <td>7.5</td>\n",
       "      <td>0.65</td>\n",
       "      <td>0.18</td>\n",
       "      <td>7.0</td>\n",
       "      <td>0.088</td>\n",
       "      <td>27.0</td>\n",
       "      <td>94.0</td>\n",
       "      <td>0.99915</td>\n",
       "      <td>3.38</td>\n",
       "      <td>0.77</td>\n",
       "      <td>9.4</td>\n",
       "    </tr>\n",
       "    <tr>\n",
       "      <th>3557</th>\n",
       "      <td>6.3</td>\n",
       "      <td>0.27</td>\n",
       "      <td>0.29</td>\n",
       "      <td>12.2</td>\n",
       "      <td>0.044</td>\n",
       "      <td>59.0</td>\n",
       "      <td>196.0</td>\n",
       "      <td>0.99782</td>\n",
       "      <td>3.14</td>\n",
       "      <td>0.40</td>\n",
       "      <td>8.8</td>\n",
       "    </tr>\n",
       "    <tr>\n",
       "      <th>3825</th>\n",
       "      <td>8.8</td>\n",
       "      <td>0.27</td>\n",
       "      <td>0.25</td>\n",
       "      <td>5.0</td>\n",
       "      <td>0.024</td>\n",
       "      <td>52.0</td>\n",
       "      <td>99.0</td>\n",
       "      <td>0.99250</td>\n",
       "      <td>2.87</td>\n",
       "      <td>0.49</td>\n",
       "      <td>11.4</td>\n",
       "    </tr>\n",
       "    <tr>\n",
       "      <th>1740</th>\n",
       "      <td>6.4</td>\n",
       "      <td>0.45</td>\n",
       "      <td>0.07</td>\n",
       "      <td>1.1</td>\n",
       "      <td>0.030</td>\n",
       "      <td>10.0</td>\n",
       "      <td>131.0</td>\n",
       "      <td>0.99050</td>\n",
       "      <td>2.97</td>\n",
       "      <td>0.28</td>\n",
       "      <td>10.8</td>\n",
       "    </tr>\n",
       "    <tr>\n",
       "      <th>1221</th>\n",
       "      <td>7.2</td>\n",
       "      <td>0.53</td>\n",
       "      <td>0.13</td>\n",
       "      <td>2.0</td>\n",
       "      <td>0.058</td>\n",
       "      <td>18.0</td>\n",
       "      <td>22.0</td>\n",
       "      <td>0.99573</td>\n",
       "      <td>3.21</td>\n",
       "      <td>0.68</td>\n",
       "      <td>9.9</td>\n",
       "    </tr>\n",
       "  </tbody>\n",
       "</table>\n",
       "</div>"
      ],
      "text/plain": [
       "      fixed acidity  volatile acidity  citric acid  residual sugar  chlorides  \\\n",
       "225             7.5              0.65         0.18             7.0      0.088   \n",
       "3557            6.3              0.27         0.29            12.2      0.044   \n",
       "3825            8.8              0.27         0.25             5.0      0.024   \n",
       "1740            6.4              0.45         0.07             1.1      0.030   \n",
       "1221            7.2              0.53         0.13             2.0      0.058   \n",
       "\n",
       "      free sulfur dioxide  total sulfur dioxide  density    pH  sulphates  \\\n",
       "225                  27.0                  94.0  0.99915  3.38       0.77   \n",
       "3557                 59.0                 196.0  0.99782  3.14       0.40   \n",
       "3825                 52.0                  99.0  0.99250  2.87       0.49   \n",
       "1740                 10.0                 131.0  0.99050  2.97       0.28   \n",
       "1221                 18.0                  22.0  0.99573  3.21       0.68   \n",
       "\n",
       "      alcohol  \n",
       "225       9.4  \n",
       "3557      8.8  \n",
       "3825     11.4  \n",
       "1740     10.8  \n",
       "1221      9.9  "
      ]
     },
     "execution_count": 23,
     "metadata": {},
     "output_type": "execute_result"
    }
   ],
   "source": [
    "train.head()"
   ]
  },
  {
   "cell_type": "markdown",
   "metadata": {
    "colab_type": "text",
    "id": "hEdbrruAsN1D"
   },
   "source": [
    "### Normalize the data (TODO)\n",
    "\n",
    "Next, you can normalize the data, x, using the formula:\n",
    "$$x_{norm} = \\frac{x - \\mu}{\\sigma}$$\n",
    "- The `norm` function is defined for you.\n",
    "- Please apply the `norm` function to normalize the dataframes that contains the feature columns of `train`, `val` and `test` sets."
   ]
  },
  {
   "cell_type": "code",
   "execution_count": 24,
   "metadata": {
    "colab": {},
    "colab_type": "code",
    "id": "WWiZPAHCLjUs"
   },
   "outputs": [],
   "source": [
    "def norm(x):\n",
    "    return (x - train_stats['mean']) / train_stats['std']"
   ]
  },
  {
   "cell_type": "code",
   "execution_count": 25,
   "metadata": {
    "colab": {},
    "colab_type": "code",
    "deletable": false,
    "id": "JEaOi2I2Lk69",
    "nbgrader": {
     "cell_type": "code",
     "checksum": "6bc0cdcb563d192f271067aa3373ff32",
     "grade": false,
     "grade_id": "cell-d8416d975c371095",
     "locked": false,
     "schema_version": 3,
     "solution": true,
     "task": false
    }
   },
   "outputs": [],
   "source": [
    "## Please uncomment all lines in this cell and replace those marked with `# YOUR CODE HERE`.\n",
    "## You can select all lines in this code cell with Ctrl+A (Windows/Linux) or Cmd+A (Mac), then press Ctrl+/ (Windows/Linux) or Cmd+/ (Mac) to uncomment.\n",
    "\n",
    "\n",
    "\n",
    "# normalize the train set\n",
    "norm_train_X = norm(train)\n",
    "    \n",
    "# normalize the val set\n",
    "norm_val_X = norm(val)\n",
    "    \n",
    "# normalize the test set\n",
    "norm_test_X = norm(test)"
   ]
  },
  {
   "cell_type": "code",
   "execution_count": 26,
   "metadata": {
    "deletable": false,
    "editable": false,
    "nbgrader": {
     "cell_type": "code",
     "checksum": "4f567db45bf40191601780379cc100b8",
     "grade": true,
     "grade_id": "cell-97fad979d157529b",
     "locked": true,
     "points": 1,
     "schema_version": 3,
     "solution": false,
     "task": false
    }
   },
   "outputs": [
    {
     "name": "stdout",
     "output_type": "stream",
     "text": [
      "\u001b[92m All public tests passed\n"
     ]
    }
   ],
   "source": [
    "utils.test_norm(norm_train_X, norm_val_X, norm_test_X, train, val, test)\n"
   ]
  },
  {
   "cell_type": "markdown",
   "metadata": {
    "colab_type": "text",
    "id": "hzykDwQhsaPO"
   },
   "source": [
    "## Define the Model (TODO)\n",
    "\n",
    "Define the model using the functional API. The base model will be 2 `Dense` layers of 128 neurons each, and have the `'relu'` activation.\n",
    "- Check out the documentation for [tf.keras.layers.Dense](https://www.tensorflow.org/api_docs/python/tf/keras/layers/Dense)"
   ]
  },
  {
   "cell_type": "code",
   "execution_count": 27,
   "metadata": {
    "colab": {},
    "colab_type": "code",
    "deletable": false,
    "id": "Rhcns3oTFkM6",
    "nbgrader": {
     "cell_type": "code",
     "checksum": "74b031247e569526552bf13a034a1c07",
     "grade": false,
     "grade_id": "cell-73fceedad1fe351c",
     "locked": false,
     "schema_version": 3,
     "solution": true,
     "task": false
    }
   },
   "outputs": [],
   "source": [
    "## Please uncomment all lines in this cell and replace those marked with `# YOUR CODE HERE`.\n",
    "## You can select all lines in this code cell with Ctrl+A (Windows/Linux) or Cmd+A (Mac), then press Ctrl+/ (Windows/Linux) or Cmd+/ (Mac) to uncomment.\n",
    "\n",
    "\n",
    "\n",
    "def base_model(inputs):\n",
    "    \n",
    "    # connect a Dense layer with 128 neurons and a relu activation\n",
    "    x = tf.keras. layers.Dense(128,activation=tf.nn.relu)(inputs)\n",
    "    \n",
    "    # connect another Dense layer with 128 neurons and a relu activation\n",
    "    x = tf.keras. layers.Dense(128,activation=tf.nn.relu)(x)\n",
    "    return x\n",
    "  "
   ]
  },
  {
   "cell_type": "code",
   "execution_count": 28,
   "metadata": {
    "deletable": false,
    "editable": false,
    "nbgrader": {
     "cell_type": "code",
     "checksum": "9255924b3def80f679616e4c851a43e1",
     "grade": true,
     "grade_id": "cell-54f742a133353d75",
     "locked": true,
     "points": 1,
     "schema_version": 3,
     "solution": false,
     "task": false
    }
   },
   "outputs": [
    {
     "name": "stdout",
     "output_type": "stream",
     "text": [
      "\u001b[92m All public tests passed\n"
     ]
    }
   ],
   "source": [
    "utils.test_base_model(base_model)"
   ]
  },
  {
   "cell_type": "markdown",
   "metadata": {
    "colab_type": "text",
    "id": "xem_fcVws6Kz"
   },
   "source": [
    "# Define output layers of the model (TODO)\n",
    "\n",
    "You will add output layers to the base model. \n",
    "- The model will need two outputs.\n",
    "\n",
    "One output layer will predict wine quality, which is a numeric value.\n",
    "- Define a `Dense` layer with 1 neuron.\n",
    "- Since this is a regression output, the activation can be left as its default value `None`.\n",
    "\n",
    "The other output layer will predict the wine type, which is either red `1` or not red `0` (white).\n",
    "- Define a `Dense` layer with 1 neuron.\n",
    "- Since there are two possible categories, you can use a sigmoid activation for binary classification.\n",
    "\n",
    "Define the `Model`\n",
    "- Define the `Model` object, and set the following parameters:\n",
    "  - `inputs`: pass in the inputs to the model as a list.\n",
    "  - `outputs`: pass in a list of the outputs that you just defined: wine quality, then wine type.\n",
    "  - **Note**: please list the wine quality before wine type in the outputs, as this will affect the calculated loss if you choose the other order."
   ]
  },
  {
   "cell_type": "code",
   "execution_count": 29,
   "metadata": {
    "colab": {},
    "colab_type": "code",
    "deletable": false,
    "id": "n5UGF8PMVLPt",
    "nbgrader": {
     "cell_type": "code",
     "checksum": "76d35b90d20cdcbb22986cd8211057de",
     "grade": false,
     "grade_id": "cell-19e285f482f021fb",
     "locked": false,
     "schema_version": 3,
     "solution": true,
     "task": false
    }
   },
   "outputs": [],
   "source": [
    "## Please uncomment all lines in this cell and replace those marked with `# YOUR CODE HERE`.\n",
    "## You can select all lines in this code cell with Ctrl+A (Windows/Linux) or Cmd+A (Mac), then press Ctrl+/ (Windows/Linux) or Cmd+/ (Mac) to uncomment.\n",
    "\n",
    "\n",
    "\n",
    "def final_model(inputs):\n",
    "    \n",
    "    # get the base model\n",
    "    x = base_model(inputs)\n",
    "\n",
    "    # connect the output Dense layer for regression\n",
    "    wine_quality = Dense(units='1', name='wine_quality')(x)\n",
    "\n",
    "    # connect the output Dense layer for classification. this will use a sigmoid activation.\n",
    "    wine_type = Dense(units='1', activation=tf.keras.activations.sigmoid, name='wine_type')(x)\n",
    "\n",
    "    # define the model using the input and output layers\n",
    "    model = Model(inputs=inputs, outputs=[wine_quality,wine_type])\n",
    "    return model"
   ]
  },
  {
   "cell_type": "code",
   "execution_count": 30,
   "metadata": {
    "deletable": false,
    "editable": false,
    "nbgrader": {
     "cell_type": "code",
     "checksum": "89cbf89d8ab5e2e59ecf7f63f517520a",
     "grade": true,
     "grade_id": "cell-40d050f855c817d1",
     "locked": true,
     "points": 1,
     "schema_version": 3,
     "solution": false,
     "task": false
    }
   },
   "outputs": [
    {
     "name": "stdout",
     "output_type": "stream",
     "text": [
      "\u001b[92m All public tests passed\n"
     ]
    }
   ],
   "source": [
    "utils.test_final_model(final_model)"
   ]
  },
  {
   "cell_type": "markdown",
   "metadata": {
    "colab_type": "text",
    "id": "5R0BMTsltZyu"
   },
   "source": [
    "## Compiling the Model\n",
    "\n",
    "Next, compile the model. When setting the loss parameter of `model.compile`, you're setting the loss for each of the two outputs (wine quality and wine type).\n",
    "\n",
    "To set more than one loss, use a dictionary of key-value pairs.\n",
    "- You can look at the docs for the losses [here](https://www.tensorflow.org/api_docs/python/tf/keras/losses#functions).\n",
    "    - **Note**: For the desired spelling, please look at the \"Functions\" section of the documentation and not the \"classes\" section on that same page.\n",
    "- wine_type: Since you will be performing binary classification on wine type, you should use the binary crossentropy loss function for it.  Please pass this in as a string.  \n",
    "  - **Hint**, this should be all lowercase.  In the documentation, you'll see this under the \"Functions\" section, not the \"Classes\" section.\n",
    "- wine_quality: since this is a regression output, use the mean squared error.  Please pass it in as a string, all lowercase.\n",
    "  - **Hint**: You may notice that there are two aliases for mean squared error.  Please use the shorter name.\n",
    "\n",
    "\n",
    "You will also set the metric for each of the two outputs.  Again, to set metrics for two or more outputs, use a dictionary with key value pairs.\n",
    "- The metrics documentation is linked [here](https://www.tensorflow.org/api_docs/python/tf/keras/metrics).\n",
    "- For the wine type, please set it to accuracy as a string, all lowercase.\n",
    "- For wine quality, please use the root mean squared error.  Instead of a string, you'll set it to an instance of the class [RootMeanSquaredError](https://www.tensorflow.org/api_docs/python/tf/keras/metrics/RootMeanSquaredError), which belongs to the tf.keras.metrics module.\n",
    "\n",
    "**Note**: If you see the error message \n",
    ">Exception: wine quality loss function is incorrect.\n",
    "\n",
    "- Please also check your other losses and metrics, as the error may be caused by the other three key-value pairs and not the wine quality loss."
   ]
  },
  {
   "cell_type": "code",
   "execution_count": 33,
   "metadata": {
    "colab": {},
    "colab_type": "code",
    "deletable": false,
    "id": "LK11duUbUjmh",
    "nbgrader": {
     "cell_type": "code",
     "checksum": "22f45067ca69eb2ccadb43874dbcc27b",
     "grade": false,
     "grade_id": "cell-81afdc4dcca51d5e",
     "locked": false,
     "schema_version": 3,
     "solution": true,
     "task": false
    }
   },
   "outputs": [],
   "source": [
    "## Please uncomment all lines in this cell and replace those marked with `# YOUR CODE HERE`.\n",
    "## You can select all lines in this code cell with Ctrl+A (Windows/Linux) or Cmd+A (Mac), then press Ctrl+/ (Windows/Linux) or Cmd+/ (Mac) to uncomment.\n",
    "\n",
    "\n",
    "\n",
    "inputs = tf.keras.layers.Input(shape=(11,))\n",
    "rms = tf.keras.optimizers.RMSprop(lr=0.0001)\n",
    "model = final_model(inputs)\n",
    "\n",
    "model.compile(optimizer=rms, \n",
    "              loss = {'wine_type' : 'binary_crossentropy',\n",
    "                      'wine_quality' :'mse'\n",
    "                     },\n",
    "              metrics = {'wine_type' : 'accuracy',\n",
    "                         'wine_quality': tf.keras.metrics.RootMeanSquaredError()\n",
    "                       }\n",
    "             )\n"
   ]
  },
  {
   "cell_type": "code",
   "execution_count": 34,
   "metadata": {
    "deletable": false,
    "editable": false,
    "nbgrader": {
     "cell_type": "code",
     "checksum": "88e02238ea5e456ff65e835cc8158054",
     "grade": true,
     "grade_id": "cell-2eeeba02391c4632",
     "locked": true,
     "points": 1,
     "schema_version": 3,
     "solution": false,
     "task": false
    }
   },
   "outputs": [
    {
     "name": "stdout",
     "output_type": "stream",
     "text": [
      "\u001b[92m All public tests passed\n"
     ]
    }
   ],
   "source": [
    "utils.test_model_compile(model)"
   ]
  },
  {
   "cell_type": "markdown",
   "metadata": {
    "colab_type": "text",
    "id": "90MpAMpWuKm-"
   },
   "source": [
    "## Training the Model (TODO)\n",
    "\n",
    "Fit the model to the training inputs and outputs. \n",
    "- Check the documentation for [model.fit](https://www.tensorflow.org/api_docs/python/tf/keras/Model#fit).\n",
    "- Remember to use the normalized training set as inputs. \n",
    "- For the validation data, please use the normalized validation set.\n",
    "\n",
    "**Important: Please do not increase the number of epochs below. This is to avoid the grader from timing out. You can increase it once you have submitted your work.**"
   ]
  },
  {
   "cell_type": "code",
   "execution_count": 35,
   "metadata": {
    "colab": {},
    "colab_type": "code",
    "deletable": false,
    "id": "_eiZkle4XwiY",
    "nbgrader": {
     "cell_type": "code",
     "checksum": "d1a4565296017a0611c6f2de675f96cf",
     "grade": false,
     "grade_id": "cell-0bb56262896f6680",
     "locked": false,
     "schema_version": 3,
     "solution": true,
     "task": false
    }
   },
   "outputs": [
    {
     "name": "stdout",
     "output_type": "stream",
     "text": [
      "Train on 3155 samples, validate on 789 samples\n",
      "Epoch 1/40\n",
      "3155/3155 [==============================] - 1s 394us/sample - loss: 25.6021 - wine_quality_loss: 24.9397 - wine_type_loss: 0.6271 - wine_quality_root_mean_squared_error: 4.9975 - wine_type_accuracy: 0.7474 - val_loss: 18.4293 - val_wine_quality_loss: 17.8249 - val_wine_type_loss: 0.6129 - val_wine_quality_root_mean_squared_error: 4.2210 - val_wine_type_accuracy: 0.7250\n",
      "Epoch 2/40\n",
      "3155/3155 [==============================] - 0s 118us/sample - loss: 12.2155 - wine_quality_loss: 11.6070 - wine_type_loss: 0.5896 - wine_quality_root_mean_squared_error: 3.4096 - wine_type_accuracy: 0.7284 - val_loss: 6.8549 - val_wine_quality_loss: 6.3098 - val_wine_type_loss: 0.5568 - val_wine_quality_root_mean_squared_error: 2.5096 - val_wine_type_accuracy: 0.7288\n",
      "Epoch 3/40\n",
      "3155/3155 [==============================] - 0s 97us/sample - loss: 4.3896 - wine_quality_loss: 3.8628 - wine_type_loss: 0.5157 - wine_quality_root_mean_squared_error: 1.9682 - wine_type_accuracy: 0.7442 - val_loss: 3.0201 - val_wine_quality_loss: 2.5778 - val_wine_type_loss: 0.4610 - val_wine_quality_root_mean_squared_error: 1.5996 - val_wine_type_accuracy: 0.7376\n",
      "Epoch 4/40\n",
      "3155/3155 [==============================] - 0s 96us/sample - loss: 2.7713 - wine_quality_loss: 2.3648 - wine_type_loss: 0.4010 - wine_quality_root_mean_squared_error: 1.5395 - wine_type_accuracy: 0.8244 - val_loss: 2.4331 - val_wine_quality_loss: 2.0992 - val_wine_type_loss: 0.3518 - val_wine_quality_root_mean_squared_error: 1.4426 - val_wine_type_accuracy: 0.8973\n",
      "Epoch 5/40\n",
      "3155/3155 [==============================] - 0s 94us/sample - loss: 2.3067 - wine_quality_loss: 2.0075 - wine_type_loss: 0.3029 - wine_quality_root_mean_squared_error: 1.4155 - wine_type_accuracy: 0.9471 - val_loss: 2.0701 - val_wine_quality_loss: 1.8171 - val_wine_type_loss: 0.2679 - val_wine_quality_root_mean_squared_error: 1.3423 - val_wine_type_accuracy: 0.9594\n",
      "Epoch 6/40\n",
      "3155/3155 [==============================] - 0s 94us/sample - loss: 1.9956 - wine_quality_loss: 1.7645 - wine_type_loss: 0.2295 - wine_quality_root_mean_squared_error: 1.3290 - wine_type_accuracy: 0.9724 - val_loss: 1.8352 - val_wine_quality_loss: 1.6408 - val_wine_type_loss: 0.2049 - val_wine_quality_root_mean_squared_error: 1.2767 - val_wine_type_accuracy: 0.9772\n",
      "Epoch 7/40\n",
      "3155/3155 [==============================] - 0s 93us/sample - loss: 1.7883 - wine_quality_loss: 1.6068 - wine_type_loss: 0.1781 - wine_quality_root_mean_squared_error: 1.2688 - wine_type_accuracy: 0.9800 - val_loss: 1.6729 - val_wine_quality_loss: 1.5184 - val_wine_type_loss: 0.1614 - val_wine_quality_root_mean_squared_error: 1.2293 - val_wine_type_accuracy: 0.9810\n",
      "Epoch 8/40\n",
      "3155/3155 [==============================] - 0s 94us/sample - loss: 1.6338 - wine_quality_loss: 1.4890 - wine_type_loss: 0.1425 - wine_quality_root_mean_squared_error: 1.2211 - wine_type_accuracy: 0.9842 - val_loss: 1.5292 - val_wine_quality_loss: 1.4034 - val_wine_type_loss: 0.1314 - val_wine_quality_root_mean_squared_error: 1.1822 - val_wine_type_accuracy: 0.9861\n",
      "Epoch 9/40\n",
      "3155/3155 [==============================] - 0s 93us/sample - loss: 1.4958 - wine_quality_loss: 1.3769 - wine_type_loss: 0.1174 - wine_quality_root_mean_squared_error: 1.1740 - wine_type_accuracy: 0.9848 - val_loss: 1.4134 - val_wine_quality_loss: 1.3075 - val_wine_type_loss: 0.1089 - val_wine_quality_root_mean_squared_error: 1.1420 - val_wine_type_accuracy: 0.9873\n",
      "Epoch 10/40\n",
      "3155/3155 [==============================] - 0s 78us/sample - loss: 1.3904 - wine_quality_loss: 1.2933 - wine_type_loss: 0.0998 - wine_quality_root_mean_squared_error: 1.1361 - wine_type_accuracy: 0.9854 - val_loss: 1.3086 - val_wine_quality_loss: 1.2167 - val_wine_type_loss: 0.0943 - val_wine_quality_root_mean_squared_error: 1.1018 - val_wine_type_accuracy: 0.9886\n",
      "Epoch 11/40\n",
      "3155/3155 [==============================] - 0s 94us/sample - loss: 1.2961 - wine_quality_loss: 1.2092 - wine_type_loss: 0.0876 - wine_quality_root_mean_squared_error: 1.0994 - wine_type_accuracy: 0.9864 - val_loss: 1.2269 - val_wine_quality_loss: 1.1456 - val_wine_type_loss: 0.0834 - val_wine_quality_root_mean_squared_error: 1.0692 - val_wine_type_accuracy: 0.9886\n",
      "Epoch 12/40\n",
      "3155/3155 [==============================] - 0s 94us/sample - loss: 1.2180 - wine_quality_loss: 1.1387 - wine_type_loss: 0.0777 - wine_quality_root_mean_squared_error: 1.0678 - wine_type_accuracy: 0.9867 - val_loss: 1.1465 - val_wine_quality_loss: 1.0728 - val_wine_type_loss: 0.0745 - val_wine_quality_root_mean_squared_error: 1.0352 - val_wine_type_accuracy: 0.9886\n",
      "Epoch 13/40\n",
      "3155/3155 [==============================] - 0s 94us/sample - loss: 1.1387 - wine_quality_loss: 1.0674 - wine_type_loss: 0.0709 - wine_quality_root_mean_squared_error: 1.0336 - wine_type_accuracy: 0.9873 - val_loss: 1.0730 - val_wine_quality_loss: 1.0053 - val_wine_type_loss: 0.0675 - val_wine_quality_root_mean_squared_error: 1.0026 - val_wine_type_accuracy: 0.9886\n",
      "Epoch 14/40\n",
      "3155/3155 [==============================] - 0s 95us/sample - loss: 1.0619 - wine_quality_loss: 0.9969 - wine_type_loss: 0.0643 - wine_quality_root_mean_squared_error: 0.9988 - wine_type_accuracy: 0.9870 - val_loss: 1.0081 - val_wine_quality_loss: 0.9454 - val_wine_type_loss: 0.0619 - val_wine_quality_root_mean_squared_error: 0.9726 - val_wine_type_accuracy: 0.9886\n",
      "Epoch 15/40\n",
      "3155/3155 [==============================] - 0s 94us/sample - loss: 1.0028 - wine_quality_loss: 0.9425 - wine_type_loss: 0.0596 - wine_quality_root_mean_squared_error: 0.9711 - wine_type_accuracy: 0.9873 - val_loss: 0.9541 - val_wine_quality_loss: 0.8951 - val_wine_type_loss: 0.0575 - val_wine_quality_root_mean_squared_error: 0.9467 - val_wine_type_accuracy: 0.9886\n",
      "Epoch 16/40\n",
      "3155/3155 [==============================] - 0s 93us/sample - loss: 0.9406 - wine_quality_loss: 0.8845 - wine_type_loss: 0.0558 - wine_quality_root_mean_squared_error: 0.9406 - wine_type_accuracy: 0.9876 - val_loss: 0.8898 - val_wine_quality_loss: 0.8343 - val_wine_type_loss: 0.0543 - val_wine_quality_root_mean_squared_error: 0.9139 - val_wine_type_accuracy: 0.9886\n",
      "Epoch 17/40\n",
      "3155/3155 [==============================] - 0s 94us/sample - loss: 0.8848 - wine_quality_loss: 0.8319 - wine_type_loss: 0.0529 - wine_quality_root_mean_squared_error: 0.9120 - wine_type_accuracy: 0.9873 - val_loss: 0.8428 - val_wine_quality_loss: 0.7896 - val_wine_type_loss: 0.0514 - val_wine_quality_root_mean_squared_error: 0.8894 - val_wine_type_accuracy: 0.9886\n",
      "Epoch 18/40\n",
      "3155/3155 [==============================] - 0s 92us/sample - loss: 0.8343 - wine_quality_loss: 0.7856 - wine_type_loss: 0.0503 - wine_quality_root_mean_squared_error: 0.8854 - wine_type_accuracy: 0.9886 - val_loss: 0.7908 - val_wine_quality_loss: 0.7399 - val_wine_type_loss: 0.0490 - val_wine_quality_root_mean_squared_error: 0.8610 - val_wine_type_accuracy: 0.9886\n",
      "Epoch 19/40\n",
      "3155/3155 [==============================] - 0s 92us/sample - loss: 0.7880 - wine_quality_loss: 0.7397 - wine_type_loss: 0.0481 - wine_quality_root_mean_squared_error: 0.8601 - wine_type_accuracy: 0.9889 - val_loss: 0.7475 - val_wine_quality_loss: 0.6990 - val_wine_type_loss: 0.0470 - val_wine_quality_root_mean_squared_error: 0.8368 - val_wine_type_accuracy: 0.9886\n",
      "Epoch 20/40\n",
      "3155/3155 [==============================] - 0s 91us/sample - loss: 0.7476 - wine_quality_loss: 0.7011 - wine_type_loss: 0.0463 - wine_quality_root_mean_squared_error: 0.8374 - wine_type_accuracy: 0.9889 - val_loss: 0.7152 - val_wine_quality_loss: 0.6682 - val_wine_type_loss: 0.0450 - val_wine_quality_root_mean_squared_error: 0.8185 - val_wine_type_accuracy: 0.9899\n",
      "Epoch 21/40\n",
      "3155/3155 [==============================] - 0s 78us/sample - loss: 0.7090 - wine_quality_loss: 0.6653 - wine_type_loss: 0.0446 - wine_quality_root_mean_squared_error: 0.8151 - wine_type_accuracy: 0.9902 - val_loss: 0.6703 - val_wine_quality_loss: 0.6245 - val_wine_type_loss: 0.0435 - val_wine_quality_root_mean_squared_error: 0.7915 - val_wine_type_accuracy: 0.9899\n",
      "Epoch 22/40\n",
      "3155/3155 [==============================] - 0s 92us/sample - loss: 0.6732 - wine_quality_loss: 0.6292 - wine_type_loss: 0.0432 - wine_quality_root_mean_squared_error: 0.7936 - wine_type_accuracy: 0.9902 - val_loss: 0.6364 - val_wine_quality_loss: 0.5918 - val_wine_type_loss: 0.0422 - val_wine_quality_root_mean_squared_error: 0.7706 - val_wine_type_accuracy: 0.9924\n",
      "Epoch 23/40\n",
      "3155/3155 [==============================] - 0s 93us/sample - loss: 0.6405 - wine_quality_loss: 0.5974 - wine_type_loss: 0.0420 - wine_quality_root_mean_squared_error: 0.7735 - wine_type_accuracy: 0.9902 - val_loss: 0.6041 - val_wine_quality_loss: 0.5609 - val_wine_type_loss: 0.0409 - val_wine_quality_root_mean_squared_error: 0.7502 - val_wine_type_accuracy: 0.9911\n",
      "Epoch 24/40\n",
      "3155/3155 [==============================] - 0s 93us/sample - loss: 0.6106 - wine_quality_loss: 0.5702 - wine_type_loss: 0.0412 - wine_quality_root_mean_squared_error: 0.7547 - wine_type_accuracy: 0.9905 - val_loss: 0.5765 - val_wine_quality_loss: 0.5345 - val_wine_type_loss: 0.0397 - val_wine_quality_root_mean_squared_error: 0.7324 - val_wine_type_accuracy: 0.9911\n",
      "Epoch 25/40\n",
      "3155/3155 [==============================] - 0s 91us/sample - loss: 0.5817 - wine_quality_loss: 0.5419 - wine_type_loss: 0.0400 - wine_quality_root_mean_squared_error: 0.7360 - wine_type_accuracy: 0.9908 - val_loss: 0.5511 - val_wine_quality_loss: 0.5100 - val_wine_type_loss: 0.0389 - val_wine_quality_root_mean_squared_error: 0.7154 - val_wine_type_accuracy: 0.9924\n",
      "Epoch 26/40\n",
      "3155/3155 [==============================] - 0s 92us/sample - loss: 0.5558 - wine_quality_loss: 0.5167 - wine_type_loss: 0.0391 - wine_quality_root_mean_squared_error: 0.7187 - wine_type_accuracy: 0.9908 - val_loss: 0.5268 - val_wine_quality_loss: 0.4866 - val_wine_type_loss: 0.0383 - val_wine_quality_root_mean_squared_error: 0.6987 - val_wine_type_accuracy: 0.9911\n",
      "Epoch 27/40\n",
      "3155/3155 [==============================] - 0s 78us/sample - loss: 0.5317 - wine_quality_loss: 0.4928 - wine_type_loss: 0.0384 - wine_quality_root_mean_squared_error: 0.7023 - wine_type_accuracy: 0.9911 - val_loss: 0.5053 - val_wine_quality_loss: 0.4658 - val_wine_type_loss: 0.0375 - val_wine_quality_root_mean_squared_error: 0.6837 - val_wine_type_accuracy: 0.9924\n",
      "Epoch 28/40\n",
      "3155/3155 [==============================] - 0s 79us/sample - loss: 0.5110 - wine_quality_loss: 0.4743 - wine_type_loss: 0.0377 - wine_quality_root_mean_squared_error: 0.6879 - wine_type_accuracy: 0.9911 - val_loss: 0.4843 - val_wine_quality_loss: 0.4456 - val_wine_type_loss: 0.0368 - val_wine_quality_root_mean_squared_error: 0.6686 - val_wine_type_accuracy: 0.9924\n",
      "Epoch 29/40\n",
      "3155/3155 [==============================] - 0s 93us/sample - loss: 0.4923 - wine_quality_loss: 0.4548 - wine_type_loss: 0.0371 - wine_quality_root_mean_squared_error: 0.6746 - wine_type_accuracy: 0.9908 - val_loss: 0.4744 - val_wine_quality_loss: 0.4363 - val_wine_type_loss: 0.0363 - val_wine_quality_root_mean_squared_error: 0.6616 - val_wine_type_accuracy: 0.9924\n",
      "Epoch 30/40\n",
      "3155/3155 [==============================] - 0s 93us/sample - loss: 0.4758 - wine_quality_loss: 0.4388 - wine_type_loss: 0.0364 - wine_quality_root_mean_squared_error: 0.6627 - wine_type_accuracy: 0.9911 - val_loss: 0.4566 - val_wine_quality_loss: 0.4189 - val_wine_type_loss: 0.0358 - val_wine_quality_root_mean_squared_error: 0.6484 - val_wine_type_accuracy: 0.9924\n",
      "Epoch 31/40\n",
      "3155/3155 [==============================] - 0s 93us/sample - loss: 0.4612 - wine_quality_loss: 0.4260 - wine_type_loss: 0.0359 - wine_quality_root_mean_squared_error: 0.6521 - wine_type_accuracy: 0.9914 - val_loss: 0.4396 - val_wine_quality_loss: 0.4030 - val_wine_type_loss: 0.0351 - val_wine_quality_root_mean_squared_error: 0.6357 - val_wine_type_accuracy: 0.9937\n",
      "Epoch 32/40\n",
      "3155/3155 [==============================] - 0s 93us/sample - loss: 0.4469 - wine_quality_loss: 0.4108 - wine_type_loss: 0.0353 - wine_quality_root_mean_squared_error: 0.6414 - wine_type_accuracy: 0.9914 - val_loss: 0.4293 - val_wine_quality_loss: 0.3931 - val_wine_type_loss: 0.0347 - val_wine_quality_root_mean_squared_error: 0.6279 - val_wine_type_accuracy: 0.9937\n",
      "Epoch 33/40\n",
      "3155/3155 [==============================] - 0s 92us/sample - loss: 0.4349 - wine_quality_loss: 0.3998 - wine_type_loss: 0.0348 - wine_quality_root_mean_squared_error: 0.6324 - wine_type_accuracy: 0.9914 - val_loss: 0.4160 - val_wine_quality_loss: 0.3798 - val_wine_type_loss: 0.0344 - val_wine_quality_root_mean_squared_error: 0.6174 - val_wine_type_accuracy: 0.9937\n",
      "Epoch 34/40\n",
      "3155/3155 [==============================] - 0s 93us/sample - loss: 0.4255 - wine_quality_loss: 0.3907 - wine_type_loss: 0.0344 - wine_quality_root_mean_squared_error: 0.6253 - wine_type_accuracy: 0.9924 - val_loss: 0.4086 - val_wine_quality_loss: 0.3729 - val_wine_type_loss: 0.0341 - val_wine_quality_root_mean_squared_error: 0.6116 - val_wine_type_accuracy: 0.9937\n",
      "Epoch 35/40\n",
      "3155/3155 [==============================] - 0s 92us/sample - loss: 0.4155 - wine_quality_loss: 0.3815 - wine_type_loss: 0.0341 - wine_quality_root_mean_squared_error: 0.6175 - wine_type_accuracy: 0.9924 - val_loss: 0.4047 - val_wine_quality_loss: 0.3693 - val_wine_type_loss: 0.0337 - val_wine_quality_root_mean_squared_error: 0.6088 - val_wine_type_accuracy: 0.9937\n",
      "Epoch 36/40\n",
      "3155/3155 [==============================] - 0s 79us/sample - loss: 0.4074 - wine_quality_loss: 0.3735 - wine_type_loss: 0.0336 - wine_quality_root_mean_squared_error: 0.6113 - wine_type_accuracy: 0.9927 - val_loss: 0.3938 - val_wine_quality_loss: 0.3593 - val_wine_type_loss: 0.0333 - val_wine_quality_root_mean_squared_error: 0.6001 - val_wine_type_accuracy: 0.9937\n",
      "Epoch 37/40\n",
      "3155/3155 [==============================] - 0s 92us/sample - loss: 0.4003 - wine_quality_loss: 0.3668 - wine_type_loss: 0.0332 - wine_quality_root_mean_squared_error: 0.6058 - wine_type_accuracy: 0.9924 - val_loss: 0.3938 - val_wine_quality_loss: 0.3590 - val_wine_type_loss: 0.0329 - val_wine_quality_root_mean_squared_error: 0.6004 - val_wine_type_accuracy: 0.9937\n",
      "Epoch 38/40\n",
      "3155/3155 [==============================] - 0s 92us/sample - loss: 0.3938 - wine_quality_loss: 0.3608 - wine_type_loss: 0.0330 - wine_quality_root_mean_squared_error: 0.6007 - wine_type_accuracy: 0.9937 - val_loss: 0.3838 - val_wine_quality_loss: 0.3498 - val_wine_type_loss: 0.0327 - val_wine_quality_root_mean_squared_error: 0.5922 - val_wine_type_accuracy: 0.9937\n",
      "Epoch 39/40\n",
      "3155/3155 [==============================] - 0s 94us/sample - loss: 0.3873 - wine_quality_loss: 0.3550 - wine_type_loss: 0.0325 - wine_quality_root_mean_squared_error: 0.5956 - wine_type_accuracy: 0.9940 - val_loss: 0.3804 - val_wine_quality_loss: 0.3466 - val_wine_type_loss: 0.0324 - val_wine_quality_root_mean_squared_error: 0.5896 - val_wine_type_accuracy: 0.9937\n",
      "Epoch 40/40\n",
      "3155/3155 [==============================] - 0s 90us/sample - loss: 0.3821 - wine_quality_loss: 0.3499 - wine_type_loss: 0.0322 - wine_quality_root_mean_squared_error: 0.5915 - wine_type_accuracy: 0.9940 - val_loss: 0.3836 - val_wine_quality_loss: 0.3497 - val_wine_type_loss: 0.0321 - val_wine_quality_root_mean_squared_error: 0.5925 - val_wine_type_accuracy: 0.9937\n"
     ]
    }
   ],
   "source": [
    "## Please uncomment all lines in this cell and replace those marked with `# YOUR CODE HERE`.\n",
    "## You can select all lines in this code cell with Ctrl+A (Windows/Linux) or Cmd+A (Mac), then press Ctrl+/ (Windows/Linux) or Cmd+/ (Mac) to uncomment.\n",
    "\n",
    "\n",
    "\n",
    "history = model.fit(norm_train_X, train_Y,\n",
    "                    epochs = 40, validation_data=(norm_val_X, val_Y))"
   ]
  },
  {
   "cell_type": "code",
   "execution_count": 36,
   "metadata": {
    "deletable": false,
    "editable": false,
    "nbgrader": {
     "cell_type": "code",
     "checksum": "fadad8896eda9c8c2115970724b15508",
     "grade": true,
     "grade_id": "cell-eb4d5b41bef8f0ab",
     "locked": true,
     "points": 1,
     "schema_version": 3,
     "solution": false,
     "task": false
    }
   },
   "outputs": [
    {
     "name": "stdout",
     "output_type": "stream",
     "text": [
      "\u001b[92m All public tests passed\n"
     ]
    }
   ],
   "source": [
    "utils.test_history(history)"
   ]
  },
  {
   "cell_type": "code",
   "execution_count": 37,
   "metadata": {
    "colab": {},
    "colab_type": "code",
    "id": "CubF2J2gSf6q"
   },
   "outputs": [
    {
     "name": "stdout",
     "output_type": "stream",
     "text": [
      "789/789 [==============================] - 0s 23us/sample - loss: 0.3836 - wine_quality_loss: 0.3497 - wine_type_loss: 0.0321 - wine_quality_root_mean_squared_error: 0.5925 - wine_type_accuracy: 0.9937\n",
      "\n",
      "loss: 0.38359666418364446\n",
      "wine_quality_loss: 0.34971919655799866\n",
      "wine_type_loss: 0.03214634582400322\n",
      "wine_quality_rmse: 0.5925114750862122\n",
      "wine_type_accuracy: 0.9936628937721252\n"
     ]
    }
   ],
   "source": [
    "# Gather the training metrics\n",
    "loss, wine_quality_loss, wine_type_loss, wine_quality_rmse, wine_type_accuracy = model.evaluate(x=norm_val_X, y=val_Y)\n",
    "\n",
    "print()\n",
    "print(f'loss: {loss}')\n",
    "print(f'wine_quality_loss: {wine_quality_loss}')\n",
    "print(f'wine_type_loss: {wine_type_loss}')\n",
    "print(f'wine_quality_rmse: {wine_quality_rmse}')\n",
    "print(f'wine_type_accuracy: {wine_type_accuracy}')\n",
    "\n",
    "# EXPECTED VALUES\n",
    "# ~ 0.30 - 0.38\n",
    "# ~ 0.30 - 0.38\n",
    "# ~ 0.018 - 0.036\n",
    "# ~ 0.50 - 0.62\n",
    "# ~ 0.97 - 1.0\n",
    "\n",
    "# Example:\n",
    "#0.3657050132751465\n",
    "#0.3463745415210724\n",
    "#0.019330406561493874\n",
    "#0.5885359048843384\n",
    "#0.9974651336669922"
   ]
  },
  {
   "cell_type": "markdown",
   "metadata": {
    "colab_type": "text",
    "id": "gPtTGAP4usnm"
   },
   "source": [
    "## Analyze the Model Performance\n",
    "\n",
    "Note that the model has two outputs. The output at index 0 is quality and index 1 is wine type\n",
    "\n",
    "So, round the quality predictions to the nearest integer."
   ]
  },
  {
   "cell_type": "code",
   "execution_count": 38,
   "metadata": {
    "colab": {},
    "colab_type": "code",
    "id": "tBq9PEeAaW-Y"
   },
   "outputs": [],
   "source": [
    "predictions = model.predict(norm_test_X)\n",
    "quality_pred = predictions[0]\n",
    "type_pred = predictions[1]"
   ]
  },
  {
   "cell_type": "code",
   "execution_count": 39,
   "metadata": {
    "colab": {},
    "colab_type": "code",
    "id": "YLhgTR4xTIxj"
   },
   "outputs": [
    {
     "name": "stdout",
     "output_type": "stream",
     "text": [
      "[5.5139923]\n"
     ]
    }
   ],
   "source": [
    "print(quality_pred[0])\n",
    "\n",
    "# EXPECTED OUTPUT\n",
    "# 5.4 - 6.0"
   ]
  },
  {
   "cell_type": "code",
   "execution_count": 40,
   "metadata": {
    "colab": {},
    "colab_type": "code",
    "id": "MPi-eYfGTUXi"
   },
   "outputs": [
    {
     "name": "stdout",
     "output_type": "stream",
     "text": [
      "[0.00428687]\n",
      "[0.9998173]\n"
     ]
    }
   ],
   "source": [
    "print(type_pred[0])\n",
    "print(type_pred[944])\n",
    "\n",
    "# EXPECTED OUTPUT\n",
    "# A number close to zero\n",
    "# A number close to or equal to 1"
   ]
  },
  {
   "cell_type": "markdown",
   "metadata": {
    "colab_type": "text",
    "id": "Kohk-9C6vt_s"
   },
   "source": [
    "### Plot Utilities\n",
    "\n",
    "We define a few utilities to visualize the model performance."
   ]
  },
  {
   "cell_type": "code",
   "execution_count": 41,
   "metadata": {
    "colab": {},
    "colab_type": "code",
    "id": "62gEOFUhn6aQ"
   },
   "outputs": [],
   "source": [
    "def plot_metrics(metric_name, title, ylim=5):\n",
    "    plt.title(title)\n",
    "    plt.ylim(0,ylim)\n",
    "    plt.plot(history.history[metric_name],color='blue',label=metric_name)\n",
    "    plt.plot(history.history['val_' + metric_name],color='green',label='val_' + metric_name)\n"
   ]
  },
  {
   "cell_type": "code",
   "execution_count": 42,
   "metadata": {
    "colab": {},
    "colab_type": "code",
    "id": "6rfgSx7uz5dj"
   },
   "outputs": [],
   "source": [
    "def plot_confusion_matrix(y_true, y_pred, title='', labels=[0,1]):\n",
    "    cm = confusion_matrix(y_true, y_pred)\n",
    "    fig = plt.figure()\n",
    "    ax = fig.add_subplot(111)\n",
    "    cax = ax.matshow(cm)\n",
    "    plt.title('Confusion matrix of the classifier')\n",
    "    fig.colorbar(cax)\n",
    "    ax.set_xticklabels([''] + labels)\n",
    "    ax.set_yticklabels([''] + labels)\n",
    "    plt.xlabel('Predicted')\n",
    "    plt.ylabel('True')\n",
    "    fmt = 'd'\n",
    "    thresh = cm.max() / 2.\n",
    "    for i, j in itertools.product(range(cm.shape[0]), range(cm.shape[1])):\n",
    "          plt.text(j, i, format(cm[i, j], fmt),\n",
    "                  horizontalalignment=\"center\",\n",
    "                  color=\"black\" if cm[i, j] > thresh else \"white\")\n",
    "    plt.show()"
   ]
  },
  {
   "cell_type": "code",
   "execution_count": 43,
   "metadata": {
    "colab": {},
    "colab_type": "code",
    "id": "dfVLIqi017Vf"
   },
   "outputs": [],
   "source": [
    "def plot_diff(y_true, y_pred, title = '' ):\n",
    "    plt.scatter(y_true, y_pred)\n",
    "    plt.title(title)\n",
    "    plt.xlabel('True Values')\n",
    "    plt.ylabel('Predictions')\n",
    "    plt.axis('equal')\n",
    "    plt.axis('square')\n",
    "    plt.plot([-100, 100], [-100, 100])\n",
    "    return plt"
   ]
  },
  {
   "cell_type": "markdown",
   "metadata": {
    "colab_type": "text",
    "id": "8sd1jdFbwE0I"
   },
   "source": [
    "### Plots for Metrics"
   ]
  },
  {
   "cell_type": "code",
   "execution_count": 44,
   "metadata": {
    "colab": {},
    "colab_type": "code",
    "id": "f3MwZ5J1pOfj"
   },
   "outputs": [
    {
     "data": {
      "image/png": "[encoded data removed]",
      "text/plain": [
       "<Figure size 432x288 with 1 Axes>"
      ]
     },
     "metadata": {
      "needs_background": "light"
     },
     "output_type": "display_data"
    }
   ],
   "source": [
    "plot_metrics('wine_quality_root_mean_squared_error', 'RMSE', ylim=2)"
   ]
  },
  {
   "cell_type": "code",
   "execution_count": 45,
   "metadata": {
    "colab": {},
    "colab_type": "code",
    "id": "QIAxEezCppnd"
   },
   "outputs": [
    {
     "data": {
      "image/png": "[encoded data removed]",
      "text/plain": [
       "<Figure size 432x288 with 1 Axes>"
      ]
     },
     "metadata": {
      "needs_background": "light"
     },
     "output_type": "display_data"
    }
   ],
   "source": [
    "plot_metrics('wine_type_loss', 'Wine Type Loss', ylim=0.2)"
   ]
  },
  {
   "cell_type": "markdown",
   "metadata": {
    "colab_type": "text",
    "id": "uYV9AOAMwI9p"
   },
   "source": [
    "### Plots for Confusion Matrix\n",
    "\n",
    "Plot the confusion matrices for wine type. You can see that the model performs well for prediction of wine type from the confusion matrix and the loss metrics."
   ]
  },
  {
   "cell_type": "code",
   "execution_count": 46,
   "metadata": {
    "colab": {},
    "colab_type": "code",
    "id": "C3hvTYxIaf3n"
   },
   "outputs": [
    {
     "data": {
      "image/png": "[encoded data removed]",
      "text/plain": [
       "<Figure size 432x288 with 2 Axes>"
      ]
     },
     "metadata": {
      "needs_background": "light"
     },
     "output_type": "display_data"
    }
   ],
   "source": [
    "plot_confusion_matrix(test_Y[1], np.round(type_pred), title='Wine Type', labels = [0, 1])"
   ]
  },
  {
   "cell_type": "code",
   "execution_count": 47,
   "metadata": {
    "colab": {},
    "colab_type": "code",
    "id": "GW91ym8P2I5y"
   },
   "outputs": [
    {
     "data": {
      "image/png": "[encoded data removed]",
      "text/plain": [
       "<Figure size 432x288 with 1 Axes>"
      ]
     },
     "metadata": {
      "needs_background": "light"
     },
     "output_type": "display_data"
    }
   ],
   "source": [
    "scatter_plot = plot_diff(test_Y[0], quality_pred, title='Type')"
   ]
  },
  {
   "cell_type": "code",
   "execution_count": null,
   "metadata": {},
   "outputs": [],
   "source": []
  }
 ],
 "metadata": {
  "colab": {
   "include_colab_link": true,
   "name": "exercise-answer.ipynb",
   "provenance": []
  },
  "kernelspec": {
   "display_name": "Python 3",
   "language": "python",
   "name": "python3"
  },
  "language_info": {
   "codemirror_mode": {
    "name": "ipython",
    "version": 3
   },
   "file_extension": ".py",
   "mimetype": "text/x-python",
   "name": "python",
   "nbconvert_exporter": "python",
   "pygments_lexer": "ipython3",
   "version": "3.7.6"
  }
 },
 "nbformat": 4,
 "nbformat_minor": 4
}
